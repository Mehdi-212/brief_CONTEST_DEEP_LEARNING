{
 "cells": [
  {
   "cell_type": "markdown",
   "id": "2239fb23",
   "metadata": {},
   "source": [
    ".Importation de librairie"
   ]
  },
  {
   "cell_type": "code",
   "execution_count": 23,
   "id": "7050680e",
   "metadata": {},
   "outputs": [],
   "source": [
    "import math"
   ]
  },
  {
   "cell_type": "markdown",
   "id": "f4130414",
   "metadata": {},
   "source": [
    "Création d'une liste"
   ]
  },
  {
   "cell_type": "code",
   "execution_count": 10,
   "id": "0d8735df",
   "metadata": {},
   "outputs": [
    {
     "data": {
      "text/plain": [
       "-4.049999999999999"
      ]
     },
     "execution_count": 10,
     "metadata": {},
     "output_type": "execute_result"
    }
   ],
   "source": [
    "x1 = 1\n",
    "x2 = -3.1\n",
    "x3 = -7.2\n",
    "x4 = 2.1\n",
    "\n",
    "X = [x1,x2,x3,x4]\n",
    "\n",
    "w1,w2,w3,w4 = 2.1,1.2,0.3,1.3\n",
    "\n",
    "W = [w1,w2,w3,w4]\n",
    "\n",
    "b = -3\n",
    "def lin_reg1(l):\n",
    "    result =  -3 + 2.1 * l[0] + 1.2 * l[1] + 0.3 * l[2] + 1.3 * l[3]\n",
    "    return result\n",
    "lin_reg1(X)    "
   ]
  },
  {
   "cell_type": "code",
   "execution_count": 11,
   "id": "aa87e432",
   "metadata": {},
   "outputs": [],
   "source": [
    "def activation(X):\n",
    "    if X > 0:\n",
    "        return X\n",
    "    else :\n",
    "        return 0"
   ]
  },
  {
   "cell_type": "code",
   "execution_count": 12,
   "id": "a0dc444d",
   "metadata": {},
   "outputs": [
    {
     "data": {
      "text/plain": [
       "0"
      ]
     },
     "execution_count": 12,
     "metadata": {},
     "output_type": "execute_result"
    }
   ],
   "source": [
    "out1=activation(lin_reg1(X))\n",
    "out1"
   ]
  },
  {
   "cell_type": "code",
   "execution_count": 13,
   "id": "159f5058",
   "metadata": {},
   "outputs": [],
   "source": [
    "def lin_reg2(l):\n",
    "    result =  -5 + 0.1 * l[0] + 1.2 * l[1] + 4.9 * l[2] + 3.1 * l[3]\n",
    "    return result"
   ]
  },
  {
   "cell_type": "code",
   "execution_count": 14,
   "id": "dd5c33ea",
   "metadata": {},
   "outputs": [
    {
     "data": {
      "text/plain": [
       "-37.39000000000001"
      ]
     },
     "execution_count": 14,
     "metadata": {},
     "output_type": "execute_result"
    }
   ],
   "source": [
    "lin_reg2(X)"
   ]
  },
  {
   "cell_type": "code",
   "execution_count": 15,
   "id": "e1fd9e9b",
   "metadata": {},
   "outputs": [
    {
     "data": {
      "text/plain": [
       "0"
      ]
     },
     "execution_count": 15,
     "metadata": {},
     "output_type": "execute_result"
    }
   ],
   "source": [
    "out2=activation(lin_reg(X))\n",
    "out2"
   ]
  },
  {
   "cell_type": "code",
   "execution_count": 16,
   "id": "ec8e26d4",
   "metadata": {},
   "outputs": [],
   "source": [
    "def lin_reg3(l):\n",
    "    result =  -8 + 0.4 * l[0] + 2.6 * l[1] + 2.5 * l[2] + 3.8 * l[3]\n",
    "    return result"
   ]
  },
  {
   "cell_type": "code",
   "execution_count": 17,
   "id": "39e8934d",
   "metadata": {},
   "outputs": [
    {
     "data": {
      "text/plain": [
       "-25.679999999999996"
      ]
     },
     "execution_count": 17,
     "metadata": {},
     "output_type": "execute_result"
    }
   ],
   "source": [
    "lin_reg3(X)"
   ]
  },
  {
   "cell_type": "code",
   "execution_count": 18,
   "id": "fae83eba",
   "metadata": {},
   "outputs": [
    {
     "data": {
      "text/plain": [
       "0"
      ]
     },
     "execution_count": 18,
     "metadata": {},
     "output_type": "execute_result"
    }
   ],
   "source": [
    "out3=activation(lin_reg(X))\n",
    "out3"
   ]
  },
  {
   "cell_type": "code",
   "execution_count": 19,
   "id": "93bc92c6",
   "metadata": {},
   "outputs": [],
   "source": [
    "O = [out1,out2,out3]"
   ]
  },
  {
   "cell_type": "code",
   "execution_count": 20,
   "id": "c6b0c348",
   "metadata": {},
   "outputs": [],
   "source": [
    "def l_next_l(n):\n",
    "    result = 5.1 + 1.1 * n[0] + -4.1 * n[1] + 0.7 * n[2]\n",
    "    return result"
   ]
  },
  {
   "cell_type": "code",
   "execution_count": 24,
   "id": "5e7cc6f5",
   "metadata": {},
   "outputs": [],
   "source": [
    "def activation_next(a):\n",
    "    y= a*-1\n",
    "    z= math.exp(y) + 1\n",
    "    c= 1/z\n",
    "    return c"
   ]
  },
  {
   "cell_type": "code",
   "execution_count": 25,
   "id": "78ffeecb",
   "metadata": {},
   "outputs": [],
   "source": [
    "y_pred = activation_next(l_next_l(O))"
   ]
  },
  {
   "cell_type": "code",
   "execution_count": 26,
   "id": "4d992c6c",
   "metadata": {},
   "outputs": [
    {
     "data": {
      "text/plain": [
       "0.9939401985084158"
      ]
     },
     "execution_count": 26,
     "metadata": {},
     "output_type": "execute_result"
    }
   ],
   "source": [
    "y_pred"
   ]
  }
 ],
 "metadata": {
  "kernelspec": {
   "display_name": "Python 3 (ipykernel)",
   "language": "python",
   "name": "python3"
  },
  "language_info": {
   "codemirror_mode": {
    "name": "ipython",
    "version": 3
   },
   "file_extension": ".py",
   "mimetype": "text/x-python",
   "name": "python",
   "nbconvert_exporter": "python",
   "pygments_lexer": "ipython3",
   "version": "3.9.13"
  }
 },
 "nbformat": 4,
 "nbformat_minor": 5
}
